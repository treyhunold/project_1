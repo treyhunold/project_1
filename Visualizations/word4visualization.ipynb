{
 "cells": [
  {
   "cell_type": "code",
   "execution_count": null,
   "metadata": {},
   "outputs": [],
   "source": [
    "#read in pickle file as dataframe and drop unnecessary columns\n",
    "spacy_analysis = pd.read_pickle(\"vader_picke_file.pkl\").drop(columns=['VADER snippet neg', 'VADER snippet neu', 'VADER snippet pos', 'VADER snippet compound'])"
   ]
  }
 ],
 "metadata": {
  "kernelspec": {
   "display_name": "Python 3",
   "language": "python",
   "name": "python3"
  },
  "language_info": {
   "codemirror_mode": {
    "name": "ipython",
    "version": 3
   },
   "file_extension": ".py",
   "mimetype": "text/x-python",
   "name": "python",
   "nbconvert_exporter": "python",
   "pygments_lexer": "ipython3",
   "version": "3.7.4"
  }
 },
 "nbformat": 4,
 "nbformat_minor": 4
}
