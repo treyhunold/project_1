{
 "cells": [
  {
   "cell_type": "code",
   "execution_count": 24,
   "metadata": {},
   "outputs": [],
   "source": [
    "import pandas as pd\n",
    "import numpy as np\n",
    "from pathlib import Path\n",
    "import plotly.express as pximport \n",
    "import hvplot.pandas"
   ]
  },
  {
   "cell_type": "code",
   "execution_count": 25,
   "metadata": {},
   "outputs": [],
   "source": [
    "filepath = Path(\"../Resources/wti_oilindex_texas.csv\")\n",
    "wti_index_df = pd.read_csv(filepath, index_col= 'date')\n",
    "wti_index_df.index = pd.to_datetime(wti_index_df.index)"
   ]
  },
  {
   "cell_type": "code",
   "execution_count": 26,
   "metadata": {},
   "outputs": [
    {
     "data": {
      "text/html": [
       "<div>\n",
       "<style scoped>\n",
       "    .dataframe tbody tr th:only-of-type {\n",
       "        vertical-align: middle;\n",
       "    }\n",
       "\n",
       "    .dataframe tbody tr th {\n",
       "        vertical-align: top;\n",
       "    }\n",
       "\n",
       "    .dataframe thead th {\n",
       "        text-align: right;\n",
       "    }\n",
       "</style>\n",
       "<table border=\"1\" class=\"dataframe\">\n",
       "  <thead>\n",
       "    <tr style=\"text-align: right;\">\n",
       "      <th></th>\n",
       "      <th>value</th>\n",
       "    </tr>\n",
       "    <tr>\n",
       "      <th>date</th>\n",
       "      <th></th>\n",
       "    </tr>\n",
       "  </thead>\n",
       "  <tbody>\n",
       "    <tr>\n",
       "      <td>2010-02-02</td>\n",
       "      <td>77.23</td>\n",
       "    </tr>\n",
       "    <tr>\n",
       "      <td>2010-02-03</td>\n",
       "      <td>76.98</td>\n",
       "    </tr>\n",
       "    <tr>\n",
       "      <td>2010-02-04</td>\n",
       "      <td>73.14</td>\n",
       "    </tr>\n",
       "    <tr>\n",
       "      <td>2010-02-05</td>\n",
       "      <td>71.19</td>\n",
       "    </tr>\n",
       "    <tr>\n",
       "      <td>2010-02-08</td>\n",
       "      <td>71.89</td>\n",
       "    </tr>\n",
       "    <tr>\n",
       "      <td>...</td>\n",
       "      <td>...</td>\n",
       "    </tr>\n",
       "    <tr>\n",
       "      <td>2020-01-27</td>\n",
       "      <td>53.14</td>\n",
       "    </tr>\n",
       "    <tr>\n",
       "      <td>2020-01-28</td>\n",
       "      <td>53.48</td>\n",
       "    </tr>\n",
       "    <tr>\n",
       "      <td>2020-01-29</td>\n",
       "      <td>53.33</td>\n",
       "    </tr>\n",
       "    <tr>\n",
       "      <td>2020-01-30</td>\n",
       "      <td>52.14</td>\n",
       "    </tr>\n",
       "    <tr>\n",
       "      <td>2020-01-31</td>\n",
       "      <td>51.56</td>\n",
       "    </tr>\n",
       "  </tbody>\n",
       "</table>\n",
       "<p>2520 rows × 1 columns</p>\n",
       "</div>"
      ],
      "text/plain": [
       "             value\n",
       "date              \n",
       "2010-02-02   77.23\n",
       "2010-02-03   76.98\n",
       "2010-02-04   73.14\n",
       "2010-02-05   71.19\n",
       "2010-02-08   71.89\n",
       "...            ...\n",
       "2020-01-27   53.14\n",
       "2020-01-28   53.48\n",
       "2020-01-29   53.33\n",
       "2020-01-30   52.14\n",
       "2020-01-31   51.56\n",
       "\n",
       "[2520 rows x 1 columns]"
      ]
     },
     "execution_count": 26,
     "metadata": {},
     "output_type": "execute_result"
    }
   ],
   "source": [
    "wti_index_df"
   ]
  },
  {
   "cell_type": "code",
   "execution_count": 35,
   "metadata": {},
   "outputs": [
    {
     "data": {
      "text/html": [
       "<div id='4951856272' style='display: table; margin: 0 auto;'><img src='data:image/png;base64,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' style='max-width:100%; margin: auto; display: block; '/></div>"
      ],
      "text/plain": [
       ":Curve   [date]   ( value)"
      ]
     },
     "execution_count": 35,
     "metadata": {
      "application/vnd.holoviews_exec.v0+json": {}
     },
     "output_type": "execute_result"
    }
   ],
   "source": [
    "wti_index_df.hvplot.line(label=\"WTI Index\", width = 2000)"
   ]
  },
  {
   "cell_type": "code",
   "execution_count": null,
   "metadata": {},
   "outputs": [],
   "source": [
    "import holoviews as hv\n",
    "vline = hv.VLine(1963).options(color='red')\n",
    "vaccination_introduced = diseases_by_year.hvplot() * vline * \\\n",
    "    hv.Text(1963, 27000, \"Measles Vaccine Introduced\", halign='left')\n",
    "vaccination_introduced"
   ]
  }
 ],
 "metadata": {
  "kernelspec": {
   "display_name": "Python 3",
   "language": "python",
   "name": "python3"
  },
  "language_info": {
   "codemirror_mode": {
    "name": "ipython",
    "version": 3
   },
   "file_extension": ".py",
   "mimetype": "text/x-python",
   "name": "python",
   "nbconvert_exporter": "python",
   "pygments_lexer": "ipython3",
   "version": "3.7.4"
  }
 },
 "nbformat": 4,
 "nbformat_minor": 4
}
