{
 "cells": [
  {
   "cell_type": "code",
   "execution_count": 49,
   "metadata": {},
   "outputs": [],
   "source": [
    "from newsapi import NewsApiClient\n",
    "import os\n",
    "import datetime"
   ]
  },
  {
   "cell_type": "code",
   "execution_count": 6,
   "metadata": {},
   "outputs": [],
   "source": [
    "NEWS_KEY = os.getenv('NEWS_KEY')"
   ]
  },
  {
   "cell_type": "code",
   "execution_count": 7,
   "metadata": {},
   "outputs": [],
   "source": [
    "newsapi = NewsApiClient(api_key= NEWS_KEY)"
   ]
  },
  {
   "cell_type": "code",
   "execution_count": 9,
   "metadata": {},
   "outputs": [],
   "source": [
    "top_headlines = newsapi.get_top_headlines(q='bitcoin',\n",
    "#                                           sources='bbc-news,the-verge',\n",
    "                                          category='business',\n",
    "                                          language='en',\n",
    "                                          country='us')"
   ]
  },
  {
   "cell_type": "code",
   "execution_count": 10,
   "metadata": {},
   "outputs": [
    {
     "data": {
      "text/plain": [
       "{'status': 'ok',\n",
       " 'totalResults': 1,\n",
       " 'articles': [{'source': {'id': None, 'name': 'Newsbtc.com'},\n",
       "   'author': None,\n",
       "   'title': 'Bitfinex Whale Who Warned About Bitcoin Fiat Inflow Is Up $2M in Profit - newsBTC',\n",
       "   'description': \"One Bitcoin whale recently noted that fiat in/outflows are key to determining BTC's trend, and he appears to have earned nearly $2 million in profits since.\",\n",
       "   'url': 'https://www.newsbtc.com/2020/02/04/bitfinex-whale-who-warned-about-bitcoin-fiat-inflow-is-up-2m-in-profit/',\n",
       "   'urlToImage': 'https://www.newsbtc.com/wp-content/uploads/2020/02/shutterstock_721420015-1200x780.jpg',\n",
       "   'publishedAt': '2020-02-04T23:03:45Z',\n",
       "   'content': 'Bitcoin has seen some turbulent price action over the past couple of days, with the cryptocurrency briefly rallying to highs of over $9,600 before incurring a swift selloff that has sent BTC down into the lower-$9,000 region.\\r\\nThe drop that has occurred over … [+2707 chars]'}]}"
      ]
     },
     "execution_count": 10,
     "metadata": {},
     "output_type": "execute_result"
    }
   ],
   "source": [
    "top_headlines"
   ]
  },
  {
   "cell_type": "code",
   "execution_count": 16,
   "metadata": {},
   "outputs": [
    {
     "data": {
      "text/plain": [
       "'https://api.nytimes.com/svc/search/v2/articlesearch.json?q=oil,naturalgas&api-key=Bmf4GKCtrsMvIyxf7DFl8HefYqv3cZK5'"
      ]
     },
     "execution_count": 16,
     "metadata": {},
     "output_type": "execute_result"
    }
   ],
   "source": [
    "f'https://api.nytimes.com/svc/search/v2/articlesearch.json?&sort=newest&q=oil,naturalgas,energy,crude&api-key=Bmf4GKCtrsMvIyxf7DFl8HefYqv3cZK5'"
   ]
  },
  {
   "cell_type": "code",
   "execution_count": 3,
   "metadata": {},
   "outputs": [],
   "source": [
    "import requests\n",
    "import time"
   ]
  },
  {
   "cell_type": "code",
   "execution_count": 5,
   "metadata": {},
   "outputs": [],
   "source": [
    "def call_nyt_by_year_and_page(year, page):\n",
    "    root_url   = 'https://api.nytimes.com/svc/search/v2/articlesearch.json?q=oil,naturalgas,energy,crude&sort=newest'\n",
    "    begin_date = '&begin_date={}0101'.format(str(year))\n",
    "    end_date   = '&end_date={}1231'.format(str(year))\n",
    "    pagination = '&page={}'.format(str(page))\n",
    "    doc_params = '&fl=pub_date&fl=abstract'\n",
    "    \n",
    "    url        = root_url + begin_date + end_date + pagination + doc_params + '&api-key=Bmf4GKCtrsMvIyxf7DFl8HefYqv3cZK5'\n",
    "    \n",
    "    \n",
    "    response   = requests.get(url)\n",
    "    \n",
    "    url_data = response.json()\n",
    "    \n",
    "    return url_data"
   ]
  },
  {
   "cell_type": "code",
   "execution_count": 6,
   "metadata": {},
   "outputs": [],
   "source": [
    "# request all pages of articles for a single year\n",
    "# returns a list of article dictionaries\n",
    "def call_nyt_by_year(year):\n",
    "    annual_articles = []\n",
    "    \n",
    "    # find how many articles (hits) contain 'Oil& related keyword' in a calendar year\n",
    "    total_results = call_nyt_by_year_and_page(year,0)\n",
    "    hits  = total_results['response']['meta']['hits']\n",
    "    \n",
    "    # request all available pages\n",
    "    # sleep 7 seconds to clear NYT API rate limit\n",
    "    for i in range(int(hits/10)):\n",
    "        query = call_nyt_by_year_and_page(year,i)\n",
    "        annual_articles = annual_articles + query['response']['docs']\n",
    "        time.sleep(7)\n",
    "        \n",
    "    return annual_articles"
   ]
  },
  {
   "cell_type": "code",
   "execution_count": 7,
   "metadata": {},
   "outputs": [],
   "source": [
    "# request all pages of articles for all years\n",
    "# returns a list of article dictionaries\n",
    "def call_nyt_by_all_years(years):\n",
    "    all_articles = []\n",
    "    \n",
    "    for year in years:\n",
    "        annual_articles = call_nyt_by_year(year)\n",
    "        all_articles = all_articles + annual_articles\n",
    "        time.sleep(7)\n",
    "        \n",
    "    return all_articles"
   ]
  },
  {
   "cell_type": "code",
   "execution_count": 8,
   "metadata": {},
   "outputs": [],
   "source": [
    "\n",
    "# create a list of dictionaries of all NYT articles containing oil or oilrelated data from 2010 to 2019\n",
    "all_years    = list(range(2010,2020))\n",
    "all_articles = call_nyt_by_all_years(all_years)"
   ]
  },
  {
   "cell_type": "code",
   "execution_count": 38,
   "metadata": {},
   "outputs": [
    {
     "data": {
      "text/html": [
       "<div>\n",
       "<style scoped>\n",
       "    .dataframe tbody tr th:only-of-type {\n",
       "        vertical-align: middle;\n",
       "    }\n",
       "\n",
       "    .dataframe tbody tr th {\n",
       "        vertical-align: top;\n",
       "    }\n",
       "\n",
       "    .dataframe thead th {\n",
       "        text-align: right;\n",
       "    }\n",
       "</style>\n",
       "<table border=\"1\" class=\"dataframe\">\n",
       "  <thead>\n",
       "    <tr style=\"text-align: right;\">\n",
       "      <th></th>\n",
       "      <th>text</th>\n",
       "    </tr>\n",
       "  </thead>\n",
       "  <tbody>\n",
       "    <tr>\n",
       "      <th>0</th>\n",
       "      <td>It was a year full of big environmental news, ...</td>\n",
       "    </tr>\n",
       "    <tr>\n",
       "      <th>1</th>\n",
       "      <td>About $11 billion in oil and natural gas trade...</td>\n",
       "    </tr>\n",
       "    <tr>\n",
       "      <th>2</th>\n",
       "      <td>Recent years have been humbling for oil bulls,...</td>\n",
       "    </tr>\n",
       "    <tr>\n",
       "      <th>3</th>\n",
       "      <td>Crude oil traded over $90 for a fifth consecut...</td>\n",
       "    </tr>\n",
       "    <tr>\n",
       "      <th>4</th>\n",
       "      <td>Over the last three presidential administratio...</td>\n",
       "    </tr>\n",
       "    <tr>\n",
       "      <th>...</th>\n",
       "      <td>...</td>\n",
       "    </tr>\n",
       "    <tr>\n",
       "      <th>605</th>\n",
       "      <td>Chevron, the No. 2 energy producer in the Unit...</td>\n",
       "    </tr>\n",
       "    <tr>\n",
       "      <th>606</th>\n",
       "      <td>The president wants to limit the influence of ...</td>\n",
       "    </tr>\n",
       "    <tr>\n",
       "      <th>607</th>\n",
       "      <td>Chevron, Occidental Petroleum and BHP have inv...</td>\n",
       "    </tr>\n",
       "    <tr>\n",
       "      <th>608</th>\n",
       "      <td>My mother-in-law wouldn’t tell us what our wed...</td>\n",
       "    </tr>\n",
       "    <tr>\n",
       "      <th>609</th>\n",
       "      <td>Officials had told residents to stay indoors f...</td>\n",
       "    </tr>\n",
       "  </tbody>\n",
       "</table>\n",
       "<p>610 rows × 1 columns</p>\n",
       "</div>"
      ],
      "text/plain": [
       "                                                  text\n",
       "0    It was a year full of big environmental news, ...\n",
       "1    About $11 billion in oil and natural gas trade...\n",
       "2    Recent years have been humbling for oil bulls,...\n",
       "3    Crude oil traded over $90 for a fifth consecut...\n",
       "4    Over the last three presidential administratio...\n",
       "..                                                 ...\n",
       "605  Chevron, the No. 2 energy producer in the Unit...\n",
       "606  The president wants to limit the influence of ...\n",
       "607  Chevron, Occidental Petroleum and BHP have inv...\n",
       "608  My mother-in-law wouldn’t tell us what our wed...\n",
       "609  Officials had told residents to stay indoors f...\n",
       "\n",
       "[610 rows x 1 columns]"
      ]
     },
     "execution_count": 38,
     "metadata": {},
     "output_type": "execute_result"
    }
   ],
   "source": [
    "# all_articles[0][\"abstract\"]\n",
    "import pandas as pd\n",
    "text_df= pd.DataFrame({\n",
    "    'text':[x['abstract'] for x in all_articles]\n",
    "})\n",
    "text_df"
   ]
  },
  {
   "cell_type": "code",
   "execution_count": 40,
   "metadata": {},
   "outputs": [
    {
     "data": {
      "text/plain": [
       "0      It was a year full of big environmental news, ...\n",
       "1      About $11 billion in oil and natural gas trade...\n",
       "2      Recent years have been humbling for oil bulls,...\n",
       "3      Crude oil traded over $90 for a fifth consecut...\n",
       "4      Over the last three presidential administratio...\n",
       "                             ...                        \n",
       "605    Chevron, the No. 2 energy producer in the Unit...\n",
       "606    The president wants to limit the influence of ...\n",
       "607    Chevron, Occidental Petroleum and BHP have inv...\n",
       "608    My mother-in-law wouldn’t tell us what our wed...\n",
       "609    Officials had told residents to stay indoors f...\n",
       "Name: text, Length: 610, dtype: object"
      ]
     },
     "execution_count": 40,
     "metadata": {},
     "output_type": "execute_result"
    }
   ],
   "source": [
    "text_df['text']"
   ]
  },
  {
   "cell_type": "code",
   "execution_count": 42,
   "metadata": {},
   "outputs": [
    {
     "data": {
      "text/html": [
       "<div>\n",
       "<style scoped>\n",
       "    .dataframe tbody tr th:only-of-type {\n",
       "        vertical-align: middle;\n",
       "    }\n",
       "\n",
       "    .dataframe tbody tr th {\n",
       "        vertical-align: top;\n",
       "    }\n",
       "\n",
       "    .dataframe thead th {\n",
       "        text-align: right;\n",
       "    }\n",
       "</style>\n",
       "<table border=\"1\" class=\"dataframe\">\n",
       "  <thead>\n",
       "    <tr style=\"text-align: right;\">\n",
       "      <th></th>\n",
       "      <th>abstract</th>\n",
       "      <th>pub_date</th>\n",
       "    </tr>\n",
       "  </thead>\n",
       "  <tbody>\n",
       "    <tr>\n",
       "      <th>0</th>\n",
       "      <td>It was a year full of big environmental news, ...</td>\n",
       "      <td>2010-12-31T23:00:27+0000</td>\n",
       "    </tr>\n",
       "    <tr>\n",
       "      <th>1</th>\n",
       "      <td>About $11 billion in oil and natural gas trade...</td>\n",
       "      <td>2010-12-30T20:21:30+0000</td>\n",
       "    </tr>\n",
       "    <tr>\n",
       "      <th>2</th>\n",
       "      <td>Recent years have been humbling for oil bulls,...</td>\n",
       "      <td>2010-12-30T02:34:46+0000</td>\n",
       "    </tr>\n",
       "    <tr>\n",
       "      <th>3</th>\n",
       "      <td>Crude oil traded over $90 for a fifth consecut...</td>\n",
       "      <td>2010-12-29T14:06:12+0000</td>\n",
       "    </tr>\n",
       "    <tr>\n",
       "      <th>4</th>\n",
       "      <td>Over the last three presidential administratio...</td>\n",
       "      <td>2010-12-24T05:49:08+0000</td>\n",
       "    </tr>\n",
       "    <tr>\n",
       "      <th>...</th>\n",
       "      <td>...</td>\n",
       "      <td>...</td>\n",
       "    </tr>\n",
       "    <tr>\n",
       "      <th>605</th>\n",
       "      <td>Chevron, the No. 2 energy producer in the Unit...</td>\n",
       "      <td>2019-04-12T11:08:22+0000</td>\n",
       "    </tr>\n",
       "    <tr>\n",
       "      <th>606</th>\n",
       "      <td>The president wants to limit the influence of ...</td>\n",
       "      <td>2019-04-10T21:40:17+0000</td>\n",
       "    </tr>\n",
       "    <tr>\n",
       "      <th>607</th>\n",
       "      <td>Chevron, Occidental Petroleum and BHP have inv...</td>\n",
       "      <td>2019-04-07T18:52:03+0000</td>\n",
       "    </tr>\n",
       "    <tr>\n",
       "      <th>608</th>\n",
       "      <td>My mother-in-law wouldn’t tell us what our wed...</td>\n",
       "      <td>2019-03-22T01:38:25+0000</td>\n",
       "    </tr>\n",
       "    <tr>\n",
       "      <th>609</th>\n",
       "      <td>Officials had told residents to stay indoors f...</td>\n",
       "      <td>2019-03-21T15:04:25+0000</td>\n",
       "    </tr>\n",
       "  </tbody>\n",
       "</table>\n",
       "<p>610 rows × 2 columns</p>\n",
       "</div>"
      ],
      "text/plain": [
       "                                              abstract  \\\n",
       "0    It was a year full of big environmental news, ...   \n",
       "1    About $11 billion in oil and natural gas trade...   \n",
       "2    Recent years have been humbling for oil bulls,...   \n",
       "3    Crude oil traded over $90 for a fifth consecut...   \n",
       "4    Over the last three presidential administratio...   \n",
       "..                                                 ...   \n",
       "605  Chevron, the No. 2 energy producer in the Unit...   \n",
       "606  The president wants to limit the influence of ...   \n",
       "607  Chevron, Occidental Petroleum and BHP have inv...   \n",
       "608  My mother-in-law wouldn’t tell us what our wed...   \n",
       "609  Officials had told residents to stay indoors f...   \n",
       "\n",
       "                     pub_date  \n",
       "0    2010-12-31T23:00:27+0000  \n",
       "1    2010-12-30T20:21:30+0000  \n",
       "2    2010-12-30T02:34:46+0000  \n",
       "3    2010-12-29T14:06:12+0000  \n",
       "4    2010-12-24T05:49:08+0000  \n",
       "..                        ...  \n",
       "605  2019-04-12T11:08:22+0000  \n",
       "606  2019-04-10T21:40:17+0000  \n",
       "607  2019-04-07T18:52:03+0000  \n",
       "608  2019-03-22T01:38:25+0000  \n",
       "609  2019-03-21T15:04:25+0000  \n",
       "\n",
       "[610 rows x 2 columns]"
      ]
     },
     "execution_count": 42,
     "metadata": {},
     "output_type": "execute_result"
    }
   ],
   "source": [
    "master_df = pd.DataFrame(all_articles)\n",
    "master_df"
   ]
  },
  {
   "cell_type": "code",
   "execution_count": 52,
   "metadata": {},
   "outputs": [
    {
     "data": {
      "text/plain": [
       "0     2010-12-31 23:00:27+00:00\n",
       "1     2010-12-30 20:21:30+00:00\n",
       "2     2010-12-30 02:34:46+00:00\n",
       "3     2010-12-29 14:06:12+00:00\n",
       "4     2010-12-24 05:49:08+00:00\n",
       "                 ...           \n",
       "605   2019-04-12 11:08:22+00:00\n",
       "606   2019-04-10 21:40:17+00:00\n",
       "607   2019-04-07 18:52:03+00:00\n",
       "608   2019-03-22 01:38:25+00:00\n",
       "609   2019-03-21 15:04:25+00:00\n",
       "Name: pub_date, Length: 610, dtype: datetime64[ns, UTC]"
      ]
     },
     "execution_count": 52,
     "metadata": {},
     "output_type": "execute_result"
    }
   ],
   "source": [
    "pd.to_datetime(master_df['pub_date'])"
   ]
  },
  {
   "cell_type": "code",
   "execution_count": 46,
   "metadata": {},
   "outputs": [
    {
     "data": {
      "text/plain": [
       "str"
      ]
     },
     "execution_count": 46,
     "metadata": {},
     "output_type": "execute_result"
    }
   ],
   "source": [
    "type(master_df.iloc[0,1])"
   ]
  },
  {
   "cell_type": "code",
   "execution_count": 28,
   "metadata": {},
   "outputs": [
    {
     "name": "stdout",
     "output_type": "stream",
     "text": [
      "Requirement already satisfied: requests in /Users/jean/opt/anaconda3/lib/python3.7/site-packages (2.22.0)\n",
      "Requirement already satisfied: idna<2.9,>=2.5 in /Users/jean/opt/anaconda3/lib/python3.7/site-packages (from requests) (2.8)\n",
      "Requirement already satisfied: chardet<3.1.0,>=3.0.2 in /Users/jean/opt/anaconda3/lib/python3.7/site-packages (from requests) (3.0.4)\n",
      "Requirement already satisfied: certifi>=2017.4.17 in /Users/jean/opt/anaconda3/lib/python3.7/site-packages (from requests) (2019.9.11)\n",
      "Requirement already satisfied: urllib3!=1.25.0,!=1.25.1,<1.26,>=1.21.1 in /Users/jean/opt/anaconda3/lib/python3.7/site-packages (from requests) (1.24.2)\n"
     ]
    }
   ],
   "source": [
    "!pip install requests"
   ]
  },
  {
   "cell_type": "code",
   "execution_count": 1,
   "metadata": {},
   "outputs": [
    {
     "name": "stdout",
     "output_type": "stream",
     "text": [
      "Collecting spacy\n",
      "\u001b[?25l  Downloading https://files.pythonhosted.org/packages/b9/d8/26120ca4a5b1a6fe215ccb01185cee41098eb61386b3fd3a7b28c085146a/spacy-2.2.3-cp37-cp37m-macosx_10_6_intel.whl (14.2MB)\n",
      "\u001b[K     |████████████████████████████████| 14.2MB 14.9MB/s eta 0:00:01   |████▏                           | 1.8MB 5.9MB/s eta 0:00:03     |████████▊                       | 3.9MB 5.9MB/s eta 0:00:02     |█████████████████               | 7.5MB 5.9MB/s eta 0:00:02\n",
      "\u001b[?25hRequirement already satisfied: requests<3.0.0,>=2.13.0 in /Users/jean/opt/anaconda3/envs/vizenv/lib/python3.7/site-packages (from spacy) (2.22.0)\n",
      "Collecting preshed<3.1.0,>=3.0.2\n",
      "\u001b[?25l  Downloading https://files.pythonhosted.org/packages/c7/3e/9aaba1f8c0cb69e57ebeb411cc1b65b3f6bfc3572dd68969a6d3e59288f6/preshed-3.0.2-cp37-cp37m-macosx_10_6_intel.macosx_10_9_intel.macosx_10_9_x86_64.macosx_10_10_intel.macosx_10_10_x86_64.whl (211kB)\n",
      "\u001b[K     |████████████████████████████████| 215kB 16.8MB/s eta 0:00:01\n",
      "\u001b[?25hRequirement already satisfied: numpy>=1.15.0 in /Users/jean/opt/anaconda3/envs/vizenv/lib/python3.7/site-packages (from spacy) (1.18.1)\n",
      "Collecting catalogue<1.1.0,>=0.0.7\n",
      "  Downloading https://files.pythonhosted.org/packages/6c/f9/9a5658e2f56932e41eb264941f9a2cb7f3ce41a80cb36b2af6ab78e2f8af/catalogue-1.0.0-py2.py3-none-any.whl\n",
      "Requirement already satisfied: setuptools in /Users/jean/opt/anaconda3/envs/vizenv/lib/python3.7/site-packages (from spacy) (44.0.0.post20200106)\n",
      "Collecting wasabi<1.1.0,>=0.4.0\n",
      "  Downloading https://files.pythonhosted.org/packages/21/e1/e4e7b754e6be3a79c400eb766fb34924a6d278c43bb828f94233e0124a21/wasabi-0.6.0-py3-none-any.whl\n",
      "Collecting plac<1.2.0,>=0.9.6\n",
      "  Downloading https://files.pythonhosted.org/packages/86/85/40b8f66c2dd8f4fd9f09d59b22720cffecf1331e788b8a0cab5bafb353d1/plac-1.1.3-py2.py3-none-any.whl\n",
      "Collecting srsly<1.1.0,>=0.1.0\n",
      "\u001b[?25l  Downloading https://files.pythonhosted.org/packages/22/33/fa6fed9e0dbadc75f1f88780ae7a5182f3dd4019a007a7a787468965355e/srsly-1.0.1-cp37-cp37m-macosx_10_6_intel.whl (271kB)\n",
      "\u001b[K     |████████████████████████████████| 276kB 16.0MB/s eta 0:00:01\n",
      "\u001b[?25hCollecting thinc<7.4.0,>=7.3.0\n",
      "\u001b[?25l  Downloading https://files.pythonhosted.org/packages/a6/87/c7da01c45bf3c138242f19f09b987d0ffa632ac7e8508527ee34d3ebbd81/thinc-7.3.1-cp37-cp37m-macosx_10_6_intel.whl (3.0MB)\n",
      "\u001b[K     |████████████████████████████████| 3.0MB 28.3MB/s eta 0:00:01\n",
      "\u001b[?25hCollecting blis<0.5.0,>=0.4.0\n",
      "\u001b[?25l  Downloading https://files.pythonhosted.org/packages/85/d8/f0be9d8ebec9cbeea1427de6ac0ecc919c0bfe881eff2d2965dbc310ca8b/blis-0.4.1-cp37-cp37m-macosx_10_6_intel.macosx_10_9_intel.macosx_10_9_x86_64.macosx_10_10_intel.macosx_10_10_x86_64.whl (4.0MB)\n",
      "\u001b[K     |████████████████████████████████| 4.0MB 15.2MB/s eta 0:00:01\n",
      "\u001b[?25hCollecting murmurhash<1.1.0,>=0.28.0\n",
      "  Downloading https://files.pythonhosted.org/packages/b9/bd/faace403086ee922afc74e5615cb8c21020fcf5d5667314e943c08f71fde/murmurhash-1.0.2-cp37-cp37m-macosx_10_6_intel.macosx_10_9_intel.macosx_10_9_x86_64.macosx_10_10_intel.macosx_10_10_x86_64.whl\n",
      "Collecting cymem<2.1.0,>=2.0.2\n",
      "\u001b[?25l  Downloading https://files.pythonhosted.org/packages/63/34/a8b682ee9b57db35a5fe4e179b77c1bda0f6a09745669a99cfc27aa2bed7/cymem-2.0.3-cp37-cp37m-macosx_10_6_intel.whl (54kB)\n",
      "\u001b[K     |████████████████████████████████| 61kB 8.8MB/s  eta 0:00:01\n",
      "\u001b[?25hRequirement already satisfied: chardet<3.1.0,>=3.0.2 in /Users/jean/opt/anaconda3/envs/vizenv/lib/python3.7/site-packages (from requests<3.0.0,>=2.13.0->spacy) (3.0.4)\n",
      "Requirement already satisfied: certifi>=2017.4.17 in /Users/jean/opt/anaconda3/envs/vizenv/lib/python3.7/site-packages (from requests<3.0.0,>=2.13.0->spacy) (2019.11.28)\n",
      "Requirement already satisfied: idna<2.9,>=2.5 in /Users/jean/opt/anaconda3/envs/vizenv/lib/python3.7/site-packages (from requests<3.0.0,>=2.13.0->spacy) (2.8)\n",
      "Requirement already satisfied: urllib3!=1.25.0,!=1.25.1,<1.26,>=1.21.1 in /Users/jean/opt/anaconda3/envs/vizenv/lib/python3.7/site-packages (from requests<3.0.0,>=2.13.0->spacy) (1.25.7)\n",
      "Requirement already satisfied: importlib-metadata>=0.20; python_version < \"3.8\" in /Users/jean/opt/anaconda3/envs/vizenv/lib/python3.7/site-packages (from catalogue<1.1.0,>=0.0.7->spacy) (1.3.0)\n",
      "Requirement already satisfied: tqdm<5.0.0,>=4.10.0 in /Users/jean/opt/anaconda3/envs/vizenv/lib/python3.7/site-packages (from thinc<7.4.0,>=7.3.0->spacy) (4.41.1)\n",
      "Requirement already satisfied: zipp>=0.5 in /Users/jean/opt/anaconda3/envs/vizenv/lib/python3.7/site-packages (from importlib-metadata>=0.20; python_version < \"3.8\"->catalogue<1.1.0,>=0.0.7->spacy) (0.6.0)\n",
      "Requirement already satisfied: more-itertools in /Users/jean/opt/anaconda3/envs/vizenv/lib/python3.7/site-packages (from zipp>=0.5->importlib-metadata>=0.20; python_version < \"3.8\"->catalogue<1.1.0,>=0.0.7->spacy) (8.0.2)\n",
      "Installing collected packages: murmurhash, cymem, preshed, catalogue, wasabi, plac, srsly, blis, thinc, spacy\n",
      "Successfully installed blis-0.4.1 catalogue-1.0.0 cymem-2.0.3 murmurhash-1.0.2 plac-1.1.3 preshed-3.0.2 spacy-2.2.3 srsly-1.0.1 thinc-7.3.1 wasabi-0.6.0\n",
      "Note: you may need to restart the kernel to use updated packages.\n"
     ]
    }
   ],
   "source": [
    "pip install spacy"
   ]
  },
  {
   "cell_type": "code",
   "execution_count": 33,
   "metadata": {},
   "outputs": [
    {
     "name": "stdout",
     "output_type": "stream",
     "text": [
      "Requirement already satisfied: en_core_web_sm==2.2.5 from https://github.com/explosion/spacy-models/releases/download/en_core_web_sm-2.2.5/en_core_web_sm-2.2.5.tar.gz#egg=en_core_web_sm==2.2.5 in /Users/jean/opt/anaconda3/envs/vizenv/lib/python3.7/site-packages (2.2.5)\n",
      "Requirement already satisfied: spacy>=2.2.2 in /Users/jean/opt/anaconda3/envs/vizenv/lib/python3.7/site-packages (from en_core_web_sm==2.2.5) (2.2.3)\n",
      "Requirement already satisfied: numpy>=1.15.0 in /Users/jean/opt/anaconda3/envs/vizenv/lib/python3.7/site-packages (from spacy>=2.2.2->en_core_web_sm==2.2.5) (1.18.1)\n",
      "Requirement already satisfied: murmurhash<1.1.0,>=0.28.0 in /Users/jean/opt/anaconda3/envs/vizenv/lib/python3.7/site-packages (from spacy>=2.2.2->en_core_web_sm==2.2.5) (1.0.2)\n",
      "Requirement already satisfied: wasabi<1.1.0,>=0.4.0 in /Users/jean/opt/anaconda3/envs/vizenv/lib/python3.7/site-packages (from spacy>=2.2.2->en_core_web_sm==2.2.5) (0.6.0)\n",
      "Requirement already satisfied: setuptools in /Users/jean/opt/anaconda3/envs/vizenv/lib/python3.7/site-packages (from spacy>=2.2.2->en_core_web_sm==2.2.5) (44.0.0.post20200106)\n",
      "Requirement already satisfied: preshed<3.1.0,>=3.0.2 in /Users/jean/opt/anaconda3/envs/vizenv/lib/python3.7/site-packages (from spacy>=2.2.2->en_core_web_sm==2.2.5) (3.0.2)\n",
      "Requirement already satisfied: requests<3.0.0,>=2.13.0 in /Users/jean/opt/anaconda3/envs/vizenv/lib/python3.7/site-packages (from spacy>=2.2.2->en_core_web_sm==2.2.5) (2.22.0)\n",
      "Requirement already satisfied: cymem<2.1.0,>=2.0.2 in /Users/jean/opt/anaconda3/envs/vizenv/lib/python3.7/site-packages (from spacy>=2.2.2->en_core_web_sm==2.2.5) (2.0.3)\n",
      "Requirement already satisfied: catalogue<1.1.0,>=0.0.7 in /Users/jean/opt/anaconda3/envs/vizenv/lib/python3.7/site-packages (from spacy>=2.2.2->en_core_web_sm==2.2.5) (1.0.0)\n",
      "Requirement already satisfied: srsly<1.1.0,>=0.1.0 in /Users/jean/opt/anaconda3/envs/vizenv/lib/python3.7/site-packages (from spacy>=2.2.2->en_core_web_sm==2.2.5) (1.0.1)\n",
      "Requirement already satisfied: thinc<7.4.0,>=7.3.0 in /Users/jean/opt/anaconda3/envs/vizenv/lib/python3.7/site-packages (from spacy>=2.2.2->en_core_web_sm==2.2.5) (7.3.1)\n",
      "Requirement already satisfied: plac<1.2.0,>=0.9.6 in /Users/jean/opt/anaconda3/envs/vizenv/lib/python3.7/site-packages (from spacy>=2.2.2->en_core_web_sm==2.2.5) (1.1.3)\n",
      "Requirement already satisfied: blis<0.5.0,>=0.4.0 in /Users/jean/opt/anaconda3/envs/vizenv/lib/python3.7/site-packages (from spacy>=2.2.2->en_core_web_sm==2.2.5) (0.4.1)\n",
      "Requirement already satisfied: idna<2.9,>=2.5 in /Users/jean/opt/anaconda3/envs/vizenv/lib/python3.7/site-packages (from requests<3.0.0,>=2.13.0->spacy>=2.2.2->en_core_web_sm==2.2.5) (2.8)\n",
      "Requirement already satisfied: urllib3!=1.25.0,!=1.25.1,<1.26,>=1.21.1 in /Users/jean/opt/anaconda3/envs/vizenv/lib/python3.7/site-packages (from requests<3.0.0,>=2.13.0->spacy>=2.2.2->en_core_web_sm==2.2.5) (1.25.7)\n",
      "Requirement already satisfied: certifi>=2017.4.17 in /Users/jean/opt/anaconda3/envs/vizenv/lib/python3.7/site-packages (from requests<3.0.0,>=2.13.0->spacy>=2.2.2->en_core_web_sm==2.2.5) (2019.11.28)\n",
      "Requirement already satisfied: chardet<3.1.0,>=3.0.2 in /Users/jean/opt/anaconda3/envs/vizenv/lib/python3.7/site-packages (from requests<3.0.0,>=2.13.0->spacy>=2.2.2->en_core_web_sm==2.2.5) (3.0.4)\n",
      "Requirement already satisfied: importlib-metadata>=0.20; python_version < \"3.8\" in /Users/jean/opt/anaconda3/envs/vizenv/lib/python3.7/site-packages (from catalogue<1.1.0,>=0.0.7->spacy>=2.2.2->en_core_web_sm==2.2.5) (1.3.0)\n",
      "Requirement already satisfied: tqdm<5.0.0,>=4.10.0 in /Users/jean/opt/anaconda3/envs/vizenv/lib/python3.7/site-packages (from thinc<7.4.0,>=7.3.0->spacy>=2.2.2->en_core_web_sm==2.2.5) (4.41.1)\n",
      "Requirement already satisfied: zipp>=0.5 in /Users/jean/opt/anaconda3/envs/vizenv/lib/python3.7/site-packages (from importlib-metadata>=0.20; python_version < \"3.8\"->catalogue<1.1.0,>=0.0.7->spacy>=2.2.2->en_core_web_sm==2.2.5) (0.6.0)\n",
      "Requirement already satisfied: more-itertools in /Users/jean/opt/anaconda3/envs/vizenv/lib/python3.7/site-packages (from zipp>=0.5->importlib-metadata>=0.20; python_version < \"3.8\"->catalogue<1.1.0,>=0.0.7->spacy>=2.2.2->en_core_web_sm==2.2.5) (8.0.2)\n",
      "\u001b[38;5;2m✔ Download and installation successful\u001b[0m\n",
      "You can now load the model via spacy.load('en_core_web_sm')\n"
     ]
    }
   ],
   "source": [
    "!python -m spacy download en_core_web_sm"
   ]
  },
  {
   "cell_type": "code",
   "execution_count": 35,
   "metadata": {},
   "outputs": [],
   "source": [
    "import spacy\n",
    "nlp = spacy.load('en_core_web_sm')"
   ]
  },
  {
   "cell_type": "code",
   "execution_count": null,
   "metadata": {},
   "outputs": [],
   "source": []
  }
 ],
 "metadata": {
  "kernelspec": {
   "display_name": "Python 3",
   "language": "python",
   "name": "python3"
  },
  "language_info": {
   "codemirror_mode": {
    "name": "ipython",
    "version": 3
   },
   "file_extension": ".py",
   "mimetype": "text/x-python",
   "name": "python",
   "nbconvert_exporter": "python",
   "pygments_lexer": "ipython3",
   "version": "3.7.6"
  }
 },
 "nbformat": 4,
 "nbformat_minor": 4
}
