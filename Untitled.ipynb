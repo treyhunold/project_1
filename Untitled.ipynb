{
 "cells": [
  {
   "cell_type": "code",
   "execution_count": null,
   "metadata": {},
   "outputs": [],
   "source": [
    "2010-04-01\n",
    "2012-10-17\n",
    "2012-04-13\n",
    "2012-03-08\n",
    "2013-03-31\n",
    "2014-05-07\n",
    "2016-03-10\n",
    "2017-04-28 - t\n",
    "2017-01-26 - t\n",
    "2018-07-16 - t"
   ]
  }
 ],
 "metadata": {
  "kernelspec": {
   "display_name": "Python 3",
   "language": "python",
   "name": "python3"
  },
  "language_info": {
   "codemirror_mode": {
    "name": "ipython",
    "version": 3
   },
   "file_extension": ".py",
   "mimetype": "text/x-python",
   "name": "python",
   "nbconvert_exporter": "python",
   "pygments_lexer": "ipython3",
   "version": "3.7.4"
  }
 },
 "nbformat": 4,
 "nbformat_minor": 4
}
